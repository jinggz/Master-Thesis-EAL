{
 "cells": [
  {
   "cell_type": "markdown",
   "metadata": {},
   "source": [
    "# This code is to give a exploratary analysis on our data"
   ]
  },
  {
   "cell_type": "markdown",
   "metadata": {},
   "source": []
  },
  {
   "cell_type": "code",
   "execution_count": null,
   "metadata": {},
   "outputs": [],
   "source": [
    "import pandas as pd\n",
    "from pathlib import Path"
   ]
  },
  {
   "cell_type": "code",
   "execution_count": 204,
   "metadata": {},
   "outputs": [],
   "source": [
    "\n",
    "\n",
    "# read 4 annotated data into dataframe\n",
    "\n",
    "dir = Path.joinpath(Path.cwd().parent, 'trained')\n",
    "files = [\"labeled_subj.tsv\", \"labeled_both_subj.tsv\", \"labeled_obj.tsv\", \"labeled_both_obj.tsv\"]\n",
    "annotated = []\n",
    "\n",
    "for file in files:\n",
    "    rd = Path.joinpath(dir, file)\n",
    "    annotated.append(rd)\n",
    "    \n",
    "\n",
    "subj_df=pd.read_csv(annotated[0],delimiter='\\t',encoding='utf-8')\n",
    "both_subj_df=pd.read_csv(annotated[1],delimiter='\\t',encoding='utf-8')\n",
    "obj_df=pd.read_csv(annotated[2],delimiter='\\t',encoding='utf-8')\n",
    "both_obj_df=pd.read_csv(annotated[3],delimiter='\\t',encoding='utf-8')\n"
   ]
  },
  {
   "cell_type": "code",
   "execution_count": 39,
   "metadata": {},
   "outputs": [],
   "source": [
    "# set the max width of col to show more tokens\n",
    "pd.set_option('display.max_colwidth', 150)\n"
   ]
  },
  {
   "cell_type": "code",
   "execution_count": 144,
   "metadata": {},
   "outputs": [
    {
     "data": {
      "text/html": [
       "<div>\n",
       "<style scoped>\n",
       "    .dataframe tbody tr th:only-of-type {\n",
       "        vertical-align: middle;\n",
       "    }\n",
       "\n",
       "    .dataframe tbody tr th {\n",
       "        vertical-align: top;\n",
       "    }\n",
       "\n",
       "    .dataframe thead th {\n",
       "        text-align: right;\n",
       "    }\n",
       "</style>\n",
       "<table border=\"1\" class=\"dataframe\">\n",
       "  <thead>\n",
       "    <tr style=\"text-align: left;\">\n",
       "      <th></th>\n",
       "      <th>sentence</th>\n",
       "      <th>aspect</th>\n",
       "      <th>aspect_content</th>\n",
       "      <th>label</th>\n",
       "      <th>idx_sentence</th>\n",
       "    </tr>\n",
       "  </thead>\n",
       "  <tbody>\n",
       "    <tr>\n",
       "      <th>0</th>\n",
       "      <td>Other highways that pass through the city include U.S. Route 41 , U.S. Route 82 , U.S. Route 319 , and Georgia State Route 125 .</td>\n",
       "      <td>lead_paragraphs</td>\n",
       "      <td>U.S. Route 41, also U.S. Highway 41 (US 41), is a major north–south United States Highway that runs from Miami, Florida to the Upper Peninsula of ...</td>\n",
       "      <td>0</td>\n",
       "      <td>0</td>\n",
       "    </tr>\n",
       "    <tr>\n",
       "      <th>1</th>\n",
       "      <td>Other highways that pass through the city include U.S. Route 41 , U.S. Route 82 , U.S. Route 319 , and Georgia State Route 125 .</td>\n",
       "      <td>route description</td>\n",
       "      <td>Florida In Florida, US 41 is paralleled by Interstate 75 all the way from Miami to Georgia (on the northern border), and I-75 has largely supplant...</td>\n",
       "      <td>1</td>\n",
       "      <td>0</td>\n",
       "    </tr>\n",
       "    <tr>\n",
       "      <th>2</th>\n",
       "      <td>Other highways that pass through the city include U.S. Route 41 , U.S. Route 82 , U.S. Route 319 , and Georgia State Route 125 .</td>\n",
       "      <td>history</td>\n",
       "      <td>When their routes were originally laid out in 1926, US 41's southern endpoint was in Naples, Florida, at the western endpoint of US 94, which ran ...</td>\n",
       "      <td>0</td>\n",
       "      <td>0</td>\n",
       "    </tr>\n",
       "    <tr>\n",
       "      <th>3</th>\n",
       "      <td>Other highways that pass through the city include U.S. Route 41 , U.S. Route 82 , U.S. Route 319 , and Georgia State Route 125 .</td>\n",
       "      <td>major intersections</td>\n",
       "      <td>NaN</td>\n",
       "      <td>0</td>\n",
       "      <td>0</td>\n",
       "    </tr>\n",
       "    <tr>\n",
       "      <th>4</th>\n",
       "      <td>The main event was a Triple Threat match for the World Heavyweight Championship between Kane , Triple H , and champion Goldberg .</td>\n",
       "      <td>lead_paragraphs</td>\n",
       "      <td>In sports, a card lists the matches taking place in a title match combat-sport event. Cards include a main event match and the undercard listing t...</td>\n",
       "      <td>0</td>\n",
       "      <td>1</td>\n",
       "    </tr>\n",
       "  </tbody>\n",
       "</table>\n",
       "</div>"
      ],
      "text/plain": [
       "  sentence                                                                                                                           aspect               aspect_content                                                                                                                                          label  idx_sentence\n",
       "0   Other highways that pass through the city include U.S. Route 41 , U.S. Route 82 , U.S. Route 319 , and Georgia State Route 125 .      lead_paragraphs  U.S. Route 41, also U.S. Highway 41 (US 41), is a major north–south United States Highway that runs from Miami, Florida to the Upper Peninsula of ...  0      0           \n",
       "1   Other highways that pass through the city include U.S. Route 41 , U.S. Route 82 , U.S. Route 319 , and Georgia State Route 125 .    route description  Florida In Florida, US 41 is paralleled by Interstate 75 all the way from Miami to Georgia (on the northern border), and I-75 has largely supplant...  1      0           \n",
       "2   Other highways that pass through the city include U.S. Route 41 , U.S. Route 82 , U.S. Route 319 , and Georgia State Route 125 .              history  When their routes were originally laid out in 1926, US 41's southern endpoint was in Naples, Florida, at the western endpoint of US 94, which ran ...  0      0           \n",
       "3   Other highways that pass through the city include U.S. Route 41 , U.S. Route 82 , U.S. Route 319 , and Georgia State Route 125 .  major intersections                                                                                                                                                    NaN  0      0           \n",
       "4  The main event was a Triple Threat match for the World Heavyweight Championship between Kane , Triple H , and champion Goldberg .      lead_paragraphs  In sports, a card lists the matches taking place in a title match combat-sport event. Cards include a main event match and the undercard listing t...  0      1           "
      ]
     },
     "execution_count": 144,
     "metadata": {},
     "output_type": "execute_result"
    }
   ],
   "source": [
    "both_subj_df.head()"
   ]
  },
  {
   "cell_type": "code",
   "execution_count": 45,
   "metadata": {},
   "outputs": [
    {
     "name": "stdout",
     "output_type": "stream",
     "text": [
      "Datasize (subj):  61428\n",
      "Datasize (obj):  104006\n",
      "Datasize (both_subj):  10005\n",
      "Datasize (both_obj):  10923\n"
     ]
    }
   ],
   "source": [
    "# data size\n",
    "print(\"Datasize (subj): \", len(subj_df))\n",
    "print(\"Datasize (obj): \", len(obj_df))\n",
    "print(\"Datasize (both_subj): \", len(both_subj_df))\n",
    "print(\"Datasize (both_obj): \", len(both_obj_df))"
   ]
  },
  {
   "cell_type": "code",
   "execution_count": 50,
   "metadata": {},
   "outputs": [
    {
     "name": "stdout",
     "output_type": "stream",
     "text": [
      "% of positive samples (subj): \n",
      "0    0.864264\n",
      "1    0.135736\n",
      "Name: label, dtype: float64\n",
      "% of positive samples (obj): \n",
      "0    0.87394\n",
      "1    0.12606\n",
      "Name: label, dtype: float64\n",
      "% of positive samples (both_subj): \n",
      "0    0.893353\n",
      "1    0.106647\n",
      "Name: label, dtype: float64\n",
      "% of positive samples (both_obj): \n",
      "0    0.901035\n",
      "1    0.098965\n",
      "Name: label, dtype: float64\n"
     ]
    }
   ],
   "source": [
    "# relative frequency counts of unique values.\n",
    "\n",
    "print(\"% of positive samples (subj): \")\n",
    "print(subj_df['label'].value_counts(normalize=True))\n",
    "print(\"% of positive samples (obj): \")\n",
    "print(obj_df['label'].value_counts(normalize=True))\n",
    "print(\"% of positive samples (both_subj): \")\n",
    "print(both_subj_df['label'].value_counts(normalize=True))\n",
    "print(\"% of positive samples (both_obj): \")\n",
    "print(both_obj_df['label'].value_counts(normalize=True))"
   ]
  },
  {
   "cell_type": "code",
   "execution_count": 51,
   "metadata": {},
   "outputs": [
    {
     "name": "stdout",
     "output_type": "stream",
     "text": [
      "number of correct aspect linking (subj): \n",
      "0    53090\n",
      "1     8338\n",
      "Name: label, dtype: int64\n",
      "number of correct aspect linking (obj): \n",
      "0    90895\n",
      "1    13111\n",
      "Name: label, dtype: int64\n",
      "number of correct aspect linking (both_subj): \n",
      "0    8938\n",
      "1    1067\n",
      "Name: label, dtype: int64\n",
      "number of correct aspect linking (both_obj): \n",
      "0    9842\n",
      "1    1081\n",
      "Name: label, dtype: int64\n"
     ]
    }
   ],
   "source": [
    "# correct EAL\n",
    "print(\"number of correct aspect linking (subj): \")\n",
    "print(subj_df['label'].value_counts())\n",
    "print(\"number of correct aspect linking (obj): \")\n",
    "print(obj_df['label'].value_counts())\n",
    "print(\"number of correct aspect linking (both_subj): \")\n",
    "print(both_subj_df['label'].value_counts())\n",
    "print(\"number of correct aspect linking (both_obj): \")\n",
    "print(both_obj_df['label'].value_counts())"
   ]
  },
  {
   "cell_type": "code",
   "execution_count": 61,
   "metadata": {},
   "outputs": [
    {
     "name": "stdout",
     "output_type": "stream",
     "text": [
      "number of unqique sentences (subj):  8216\n",
      "number of unqique sentences (obj):  12780\n",
      "number of unqique sentences (both_subj):  956\n",
      "number of unqique sentences (both_obj):  955\n"
     ]
    }
   ],
   "source": [
    "# number of unique sentence\n",
    "print(\"number of unqique sentences (subj): \",subj_df.sentence.nunique())\n",
    "print(\"number of unqique sentences (obj): \",obj_df.sentence.nunique())\n",
    "print(\"number of unqique sentences (both_subj): \",both_subj_df.sentence.nunique())\n",
    "print(\"number of unqique sentences (both_obj): \",both_obj_df.sentence.nunique())"
   ]
  },
  {
   "cell_type": "code",
   "execution_count": 113,
   "metadata": {},
   "outputs": [
    {
     "name": "stdout",
     "output_type": "stream",
     "text": [
      "140\n",
      "7.367234348764692\n",
      "2\n"
     ]
    }
   ],
   "source": [
    "# Max., Mean., Min. number of candidate per sentence for subj\n",
    "print(subj_df.groupby([\"idx_sentence\"]).size().max())\n",
    "print(subj_df.groupby([\"idx_sentence\"]).size().mean())\n",
    "print(subj_df.groupby([\"idx_sentence\"]).size().min())"
   ]
  },
  {
   "cell_type": "code",
   "execution_count": 115,
   "metadata": {},
   "outputs": [
    {
     "name": "stdout",
     "output_type": "stream",
     "text": [
      "140\n",
      "7.932728243459691\n",
      "2\n"
     ]
    }
   ],
   "source": [
    "# Max., Mean., Min. number of candidate per sentence for obj\n",
    "print(obj_df.groupby([\"idx_sentence\"]).size().max())\n",
    "print(obj_df.groupby([\"idx_sentence\"]).size().mean())\n",
    "print(obj_df.groupby([\"idx_sentence\"]).size().min())"
   ]
  },
  {
   "cell_type": "code",
   "execution_count": 111,
   "metadata": {},
   "outputs": [
    {
     "name": "stdout",
     "output_type": "stream",
     "text": [
      "140\n",
      "9.376757263355202\n",
      "2\n"
     ]
    }
   ],
   "source": [
    "# Max., Mean., Min. number of candidate per sentence for both_subj\n",
    "print(both_subj_df.groupby([\"idx_sentence\"]).size().max())\n",
    "print(both_subj_df.groupby([\"idx_sentence\"]).size().mean())\n",
    "print(both_subj_df.groupby([\"idx_sentence\"]).size().min())"
   ]
  },
  {
   "cell_type": "code",
   "execution_count": 110,
   "metadata": {},
   "outputs": [
    {
     "name": "stdout",
     "output_type": "stream",
     "text": [
      "140\n",
      "10.104532839962998\n",
      "2\n"
     ]
    }
   ],
   "source": [
    "# Max., Mean., Min. number of candidate per sentence for both_obj\n",
    "print(both_obj_df.groupby([\"idx_sentence\"]).size().max())\n",
    "print(both_obj_df.groupby([\"idx_sentence\"]).size().mean())\n",
    "print(both_obj_df.groupby([\"idx_sentence\"]).size().min())"
   ]
  },
  {
   "cell_type": "code",
   "execution_count": 205,
   "metadata": {},
   "outputs": [
    {
     "name": "stdout",
     "output_type": "stream",
     "text": [
      "100\n",
      "31.0\n",
      "3\n",
      "113\n",
      "15.0\n",
      "1\n",
      "28998\n",
      "184.0\n",
      "0\n"
     ]
    }
   ],
   "source": [
    "# number of tokens \n",
    "print(subj_df[\"sentence\"].map(lambda x: len(str(x).split())).max())\n",
    "print(subj_df[\"sentence\"].map(lambda x: len(str(x).split())).median())\n",
    "print(subj_df[\"sentence\"].map(lambda x: len(str(x).split())).min())\n",
    "print(subj_df[\"aspect\"].map(lambda x: len(x)).max())\n",
    "print(subj_df[\"aspect\"].map(lambda x: len(x)).median())\n",
    "print(subj_df[\"aspect\"].map(lambda x: len(x)).min())\n",
    "print(subj_df[\"aspect_content\"].map(lambda x: len(str(x).split())).max())\n",
    "print(subj_df[\"aspect_content\"].map(lambda x: len(str(x).split())).median())\n",
    "print(subj_df[\"aspect_content\"].map(lambda x: len(str(x).split())).min())"
   ]
  },
  {
   "cell_type": "code",
   "execution_count": 206,
   "metadata": {},
   "outputs": [
    {
     "name": "stdout",
     "output_type": "stream",
     "text": [
      "100\n",
      "28.0\n",
      "4\n",
      "110\n",
      "14.0\n",
      "1\n",
      "28998\n",
      "174.0\n",
      "0\n"
     ]
    }
   ],
   "source": [
    "# number of tokens \n",
    "print(obj_df[\"sentence\"].map(lambda x: len(str(x).split())).max())\n",
    "print(obj_df[\"sentence\"].map(lambda x: len(str(x).split())).median())\n",
    "print(obj_df[\"sentence\"].map(lambda x: len(str(x).split())).min())\n",
    "print(obj_df[\"aspect\"].map(lambda x: len(x)).max())\n",
    "print(obj_df[\"aspect\"].map(lambda x: len(x)).median())\n",
    "print(obj_df[\"aspect\"].map(lambda x: len(x)).min())\n",
    "print(obj_df[\"aspect_content\"].map(lambda x: len(str(x).split())).max())\n",
    "print(obj_df[\"aspect_content\"].map(lambda x: len(str(x).split())).median())\n",
    "print(obj_df[\"aspect_content\"].map(lambda x: len(str(x).split())).min())"
   ]
  },
  {
   "cell_type": "code",
   "execution_count": 207,
   "metadata": {},
   "outputs": [
    {
     "name": "stdout",
     "output_type": "stream",
     "text": [
      "100\n",
      "35.0\n",
      "5\n",
      "92\n",
      "13.0\n",
      "1\n",
      "20509\n",
      "171.0\n",
      "1\n"
     ]
    }
   ],
   "source": [
    "# number of tokens \n",
    "print(both_subj_df[\"sentence\"].map(lambda x: len(str(x).split())).max())\n",
    "print(both_subj_df[\"sentence\"].map(lambda x: len(str(x).split())).median())\n",
    "print(both_subj_df[\"sentence\"].map(lambda x: len(str(x).split())).min())\n",
    "print(both_subj_df[\"aspect\"].map(lambda x: len(x)).max())\n",
    "print(both_subj_df[\"aspect\"].map(lambda x: len(x)).median())\n",
    "print(both_subj_df[\"aspect\"].map(lambda x: len(x)).min())\n",
    "print(both_subj_df[\"aspect_content\"].map(lambda x: len(str(x).split())).max())\n",
    "print(both_subj_df[\"aspect_content\"].map(lambda x: len(str(x).split())).median())\n",
    "print(both_subj_df[\"aspect_content\"].map(lambda x: len(str(x).split())).min())"
   ]
  },
  {
   "cell_type": "code",
   "execution_count": 208,
   "metadata": {},
   "outputs": [
    {
     "name": "stdout",
     "output_type": "stream",
     "text": [
      "99\n",
      "33.0\n",
      "5\n",
      "80\n",
      "14.0\n",
      "1\n",
      "20509\n",
      "156.0\n",
      "1\n"
     ]
    }
   ],
   "source": [
    "# number of tokens \n",
    "print(both_obj_df[\"sentence\"].map(lambda x: len(str(x).split())).max())\n",
    "print(both_obj_df[\"sentence\"].map(lambda x: len(str(x).split())).median())\n",
    "print(both_obj_df[\"sentence\"].map(lambda x: len(str(x).split())).min())\n",
    "print(both_obj_df[\"aspect\"].map(lambda x: len(x)).max())\n",
    "print(both_obj_df[\"aspect\"].map(lambda x: len(x)).median())\n",
    "print(both_obj_df[\"aspect\"].map(lambda x: len(x)).min())\n",
    "print(both_obj_df[\"aspect_content\"].map(lambda x: len(str(x).split())).max())\n",
    "print(both_obj_df[\"aspect_content\"].map(lambda x: len(str(x).split())).median())\n",
    "print(both_obj_df[\"aspect_content\"].map(lambda x: len(str(x).split())).min())"
   ]
  },
  {
   "cell_type": "code",
   "execution_count": null,
   "metadata": {},
   "outputs": [],
   "source": [
    "# number of tokens \n",
    "print(subj_df[\"sentence\"].map(lambda x: len(str(x).split())).max())\n",
    "print(subj_df[\"sentence\"].map(lambda x: len(str(x).split())).median())\n",
    "print(subj_df[\"sentence\"].map(lambda x: len(str(x).split())).min())\n",
    "print(subj_df[\"aspect\"].map(lambda x: len(x)).max())\n",
    "print(subj_df[\"aspect\"].map(lambda x: len(x)).median())\n",
    "print(subj_df[\"aspect\"].map(lambda x: len(x)).min())\n",
    "print(subj_df[\"aspect_content\"].map(lambda x: len(str(x).split())).max())\n",
    "print(subj_df[\"aspect_content\"].map(lambda x: len(str(x).split())).median())\n",
    "print(subj_df[\"aspect_content\"].map(lambda x: len(str(x).split())).min())"
   ]
  },
  {
   "cell_type": "code",
   "execution_count": 187,
   "metadata": {},
   "outputs": [],
   "source": [
    "\n",
    "\n",
    "# read 4 annotated data into dataframe\n",
    "\n",
    "dir = Path.joinpath(Path.cwd().parent, 'trained')\n",
    "#files = [\"cleaned_subj.tsv\", \"cleaned_both_subj.tsv\", \"cleaned_obj.tsv\", \"cleaned_both_obj.tsv\"\n",
    "files = [\"cleaned_both_subj.tsv\"]\n",
    "annotated = []\n",
    "\n",
    "for file in files:\n",
    "    rd = Path.joinpath(dir, file)\n",
    "    annotated.append(rd)\n",
    "    \n",
    "\n",
    "#clean_subj_df=pd.read_csv(annotated[0],delimiter='\\t',encoding='utf-8')\n",
    "clean_both_subj_df=pd.read_csv(annotated[0],delimiter='\\t',encoding='utf-8')\n",
    "# clean_obj_df=pd.read_csv(annotated[2],delimiter='\\t',encoding='utf-8')\n",
    "# clean_both_obj_df=pd.read_csv(annotated[3],delimiter='\\t',encoding='utf-8')\n"
   ]
  },
  {
   "cell_type": "code",
   "execution_count": 203,
   "metadata": {},
   "outputs": [
    {
     "data": {
      "text/plain": [
       "1"
      ]
     },
     "execution_count": 203,
     "metadata": {},
     "output_type": "execute_result"
    }
   ],
   "source": [
    "clean_both_subj_df[\"aspect_content\"].map(lambda x: len(str(x).split())).min()\n",
    "#subj_df[\"aspect\"].map(lambda x: len(x)).median()\n",
    "#subj_df[\"aspect_content\"].map(lambda x: len(str(x))).mean()"
   ]
  },
  {
   "cell_type": "code",
   "execution_count": null,
   "metadata": {},
   "outputs": [],
   "source": [
    "max_size = train_df_unsampled['label'].value_counts().max()\n",
    "train_df.aspect_content.map(len).min()\n",
    "df.groupby(df.type).apply(get_prediction)"
   ]
  },
  {
   "cell_type": "code",
   "execution_count": 102,
   "metadata": {
    "scrolled": true
   },
   "outputs": [
    {
     "data": {
      "text/plain": [
       "140"
      ]
     },
     "execution_count": 102,
     "metadata": {},
     "output_type": "execute_result"
    }
   ],
   "source": [
    "#subj_df.loc[600:610]\n",
    "#subj_df.idx_sentence==684\n",
    "subj_df.groupby([\"idx_sentence\"]).size().max()"
   ]
  },
  {
   "cell_type": "code",
   "execution_count": 116,
   "metadata": {
    "scrolled": true
   },
   "outputs": [],
   "source": [
    "a = both_obj_df.groupby([\"idx_sentence\"]).size().reset_index(name='counts')"
   ]
  },
  {
   "cell_type": "code",
   "execution_count": 118,
   "metadata": {},
   "outputs": [
    {
     "data": {
      "text/plain": [
       "962"
      ]
     },
     "execution_count": 118,
     "metadata": {},
     "output_type": "execute_result"
    }
   ],
   "source": [
    "a[\"counts\"].idxmax()"
   ]
  },
  {
   "cell_type": "code",
   "execution_count": 119,
   "metadata": {},
   "outputs": [
    {
     "data": {
      "text/plain": [
       "idx_sentence    962\n",
       "counts          140\n",
       "Name: 962, dtype: int64"
      ]
     },
     "execution_count": 119,
     "metadata": {},
     "output_type": "execute_result"
    }
   ],
   "source": [
    "a.loc[962]"
   ]
  },
  {
   "cell_type": "code",
   "execution_count": 132,
   "metadata": {},
   "outputs": [
    {
     "data": {
      "text/html": [
       "<div>\n",
       "<style scoped>\n",
       "    .dataframe tbody tr th:only-of-type {\n",
       "        vertical-align: middle;\n",
       "    }\n",
       "\n",
       "    .dataframe tbody tr th {\n",
       "        vertical-align: top;\n",
       "    }\n",
       "\n",
       "    .dataframe thead th {\n",
       "        text-align: right;\n",
       "    }\n",
       "</style>\n",
       "<table border=\"1\" class=\"dataframe\">\n",
       "  <thead>\n",
       "    <tr style=\"text-align: left;\">\n",
       "      <th></th>\n",
       "      <th>sentence</th>\n",
       "      <th>aspect</th>\n",
       "      <th>aspect_content</th>\n",
       "      <th>label</th>\n",
       "      <th>idx_sentence</th>\n",
       "    </tr>\n",
       "  </thead>\n",
       "  <tbody>\n",
       "    <tr>\n",
       "      <th>9855</th>\n",
       "      <td>During the reign of Durin the Deathless some of the wonders of Dwarvish architecture were built in Khazad-dûm : Durin 's Bridge , the Second Hall ...</td>\n",
       "      <td>durin's tower</td>\n",
       "      <td>Durin's Tower is the tower that stood on the peak of Celebdil above Khazad-dûm. It could be reached only by a long stairwell, the Endless Stair, ...</td>\n",
       "      <td>1</td>\n",
       "      <td>962</td>\n",
       "    </tr>\n",
       "  </tbody>\n",
       "</table>\n",
       "</div>"
      ],
      "text/plain": [
       "     sentence                                                                                                                                               aspect         aspect_content                                                                                                                                          label  idx_sentence\n",
       "9855  During the reign of Durin the Deathless some of the wonders of Dwarvish architecture were built in Khazad-dûm : Durin 's Bridge , the Second Hall ...  durin's tower  Durin's Tower is the tower that stood on the peak of Celebdil above Khazad-dûm. It could be reached only by a long stairwell, the Endless Stair, ...  1      962         "
      ]
     },
     "execution_count": 132,
     "metadata": {},
     "output_type": "execute_result"
    }
   ],
   "source": [
    "both_obj_df[(both_obj_df[\"idx_sentence\"]==962) & (both_obj_df[\"label\"]==1)]\n",
    "#s[s > 0]"
   ]
  },
  {
   "cell_type": "code",
   "execution_count": null,
   "metadata": {},
   "outputs": [],
   "source": []
  }
 ],
 "metadata": {
  "kernelspec": {
   "display_name": "Python 3",
   "language": "python",
   "name": "python3"
  },
  "language_info": {
   "codemirror_mode": {
    "name": "ipython",
    "version": 3
   },
   "file_extension": ".py",
   "mimetype": "text/x-python",
   "name": "python",
   "nbconvert_exporter": "python",
   "pygments_lexer": "ipython3",
   "version": "3.6.5"
  }
 },
 "nbformat": 4,
 "nbformat_minor": 2
}
